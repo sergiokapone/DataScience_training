{
 "cells": [
  {
   "cell_type": "markdown",
   "metadata": {},
   "source": [
    "# Lazypredict: Запуск усіх алгоритмів `sklearn` одним рядком коду\n",
    "\n",
    "Як його використовувати (і чому не варто)\n",
    "\n",
    "https://pub.towardsai.net/lazypredict-run-all-sklearn-algorithms-with-a-line-of-code-29d73d82499c"
   ]
  },
  {
   "cell_type": "raw",
   "metadata": {},
   "source": [
    "@article{lazypredict,\n",
    "    author = {Travis Tang},\n",
    "    title = {LazyPredict: Run All Sklearn Algorithms with a Line of Code},\n",
    "    journal = {Towards AI},\n",
    "    year = {2022},\n",
    "    month = {Dec},\n",
    "    day = {26},\n",
    "    url = {https://pub.towardsai.net/lazypredict-run-all-sklearn-algorithms-with-a-line-of-code-29d73d82499c}\n",
    "}"
   ]
  },
  {
   "cell_type": "code",
   "execution_count": null,
   "metadata": {},
   "outputs": [],
   "source": [
    "from lazypredict.Supervised import LazyRegressor\n",
    "from sklearn import datasets\n",
    "from sklearn.utils import shuffle\n",
    "import numpy as np\n",
    "import pandas as pd\n"
   ]
  },
  {
   "cell_type": "markdown",
   "metadata": {},
   "source": [
    "## Спочатку ми імпортуємо набір даних \"Діабет\".\n",
    "\n",
    "Для кожного з $n = 442$ пацієнтів з діабетом було отримано десять базових змінних: вік, стать, індекс маси тіла, середній кров'яний тиск та шість показників сироватки крові, а також відповідь, що нас цікавить, - кількісний показник прогресування хвороби через рік після базового рівня."
   ]
  },
  {
   "cell_type": "code",
   "execution_count": null,
   "metadata": {},
   "outputs": [],
   "source": [
    "# Import the Diabetes Dataset\n",
    "diabetes = datasets.load_diabetes()\n",
    "\n",
    "print(diabetes.DESCR)\n"
   ]
  },
  {
   "cell_type": "markdown",
   "metadata": {},
   "source": [
    "## Далі ми перетасуємо набір даних, щоб розділити їх на набори тренувань і тестів."
   ]
  },
  {
   "cell_type": "code",
   "execution_count": null,
   "metadata": {},
   "outputs": [],
   "source": [
    "# Shuffle the dataset\n",
    "X, y = shuffle(diabetes.data, diabetes.target, random_state=13)\n",
    "\n",
    "# Cast the numerical values into a numpy float.\n",
    "X = X.astype(np.float32)\n",
    "\n",
    "# Split the dataset into 90% and 10%.\n",
    "offset = int(X.shape[0] * 0.9)\n",
    "\n",
    "# Split into train and test\n",
    "X_train, y_train = X[:offset], y[:offset]\n",
    "X_test, y_test = X[offset:], y[offset:]\n"
   ]
  },
  {
   "cell_type": "markdown",
   "metadata": {},
   "source": [
    "## Далі ініціалізуємо об'єкт LazyRegressor"
   ]
  },
  {
   "cell_type": "code",
   "execution_count": null,
   "metadata": {},
   "outputs": [],
   "source": [
    "# Running the Lazypredict library and fit multiple regression libraries\n",
    "# for the same dataset\n",
    "reg = LazyRegressor(verbose=0,\n",
    "                    ignore_warnings=False,\n",
    "                    custom_metric=None,\n",
    "                    predictions=False,\n",
    "                    random_state=13,\n",
    "                    )\n",
    "\n",
    "# Parameters\n",
    "# ----------\n",
    "# verbose : int, optional (default=0)\n",
    "#       For the liblinear and lbfgs solvers set verbose to any positive\n",
    "#       number for verbosity.\n",
    "# ignore_warnings : bool, optional (default=True)\n",
    "#       When set to True, the warning related to algorigms that are not able\n",
    "#       to run are ignored.\n",
    "# custom_metric : function, optional (default=None)\n",
    "#       When function is provided, models are evaluated based on the custom\n",
    "#       evaluation metric provided.\n",
    "# prediction : bool, optional (default=False)\n",
    "#       When set to True, the predictions of all the models models are\n",
    "#       returned as dataframe.\n",
    "# regressors : list, optional (default=\"all\")\n",
    "#       When function is provided, trains the chosen regressor(s).\n"
   ]
  },
  {
   "cell_type": "markdown",
   "metadata": {},
   "source": [
    "## Тепер ми поєднаємо алгоритми множинної регресії з бібліотекою `lazypredict`. Цей крок зайняв 3 секунди.\n",
    "\n",
    "По суті, метод підгонки робить наступне:\n",
    "\n",
    "1. Розділіть всі об'єкти на три категорії: числові (об'єкти, які є числами) або категоріальні (об'єкти, які є текстом). \n",
    "2. Далі розділіть категоріальні ознаки на дві: \"високі\" категоріальні ознаки (які мають більше унікальних значень, ніж загальна кількість ознак) і \"низькі\" категоріальні ознаки (які мають менше унікальних значень, ніж загальна кількість ознак).\n",
    "3. Потім кожна ознака попередньо обробляється таким чином:\n",
    "\n",
    "- Числові ознаки: Замінимо відсутні значення середнім значенням, а потім стандартизуємо ознаку (вилучимо середнє значення та поділити на дисперсію) \n",
    "- \"Високі\" категоріальні ознаки: Пропущені значення замінюються значенням \"missing\", а потім виконується однократне кодування. \n",
    "- \"Низькі\" категоріальні ознаки: Присвоїмо відсутнім значенням значення \"missing\", а потім виконати порядкове кодування (перетворити кожне унікальне значення рядка на ціле число). У прикладі зі стовпчиком \"Стать\" - \"Чоловік\" кодується як 0, а \"Жінка\" - як 1.\n",
    "- Підберемо навчальний набір даних для кожного алгоритму. - \n",
    "- Протестуємо кожен алгоритм на тестовому наборі даних. За замовчуванням, метрики наступні: приведений $R^2$, $R^2$, середньоквадратична помилка (MSE) та витрачений час."
   ]
  },
  {
   "cell_type": "code",
   "execution_count": null,
   "metadata": {},
   "outputs": [],
   "source": [
    "models, predictions = reg.fit(X_train, X_test, y_train, y_test)\n",
    "model_dictionary = reg.provide_models(X_train, X_test, y_train, y_test)\n"
   ]
  },
  {
   "cell_type": "code",
   "execution_count": null,
   "metadata": {},
   "outputs": [],
   "source": [
    "models\n"
   ]
  },
  {
   "cell_type": "markdown",
   "metadata": {},
   "source": [
    "## Чи рекомендую я `lazypredict`?\n",
    "\n",
    "Якщо ви встановите його, `lazypredict` дуже простий у використанні. Його синтаксис дуже близький до `scikit-learn`, що робить криву навчання дуже пологою.\n",
    "\n",
    "Але у нього є кілька критичних недоліків.\n",
    "\n",
    "1. __Складне встановлення__: Багато хто повідомляв про труднощі при встановленні бібліотек, тому що розробники не додали файл requirements.txt, який документує необхідні залежності.\n",
    "   \n",
    "2. __Обмежена документація__: Мені довелося прочісувати вихідний код, щоб дізнатися, як працює препроцесор. Це не ідеально. Я також не знаю гіперпараметрів, які використовуються для виконання кожного із завдань класифікації та регресії. \n",
    "   \n",
    "3. __Обмежена можливість налаштування__: Я все ще не знайшов способів налаштувати кроки попередньої обробки. \n",
    "   \n",
    "4. Незрозуміло, як використовувати модель після `lazypredict`: Після того, як ви закінчите роботу з бібліотекою `lazypredict`, ви в ідеалі захочете вибрати найкращий алгоритм. `Lazypredict` не робить це простим, оскільки у вас немає простого способу експортувати найкращий алгоритм."
   ]
  }
 ],
 "metadata": {
  "kernelspec": {
   "display_name": "Python 3",
   "language": "python",
   "name": "python3"
  },
  "language_info": {
   "codemirror_mode": {
    "name": "ipython",
    "version": 3
   },
   "file_extension": ".py",
   "mimetype": "text/x-python",
   "name": "python",
   "nbconvert_exporter": "python",
   "pygments_lexer": "ipython3",
   "version": "3.11.3"
  }
 },
 "nbformat": 4,
 "nbformat_minor": 2
}
